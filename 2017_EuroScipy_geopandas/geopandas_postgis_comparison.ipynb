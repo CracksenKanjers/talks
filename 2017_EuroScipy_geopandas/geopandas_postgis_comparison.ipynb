{
 "cells": [
  {
   "cell_type": "markdown",
   "metadata": {},
   "source": [
    "# Comparison of GeoPandas and PostGIS"
   ]
  },
  {
   "cell_type": "markdown",
   "metadata": {},
   "source": [
    "The postgis examples are taken from the tutorial of Boundless (http://workshops.boundlessgeo.com/postgis-intro/, CC BY SA), the used data can be downloaded from there.\n",
    "\n",
    "**DISCLAIMER**: this is just a dummy comparison and no real performance benchmark, and I am not a PostGIS expert.\n",
    "\n",
    "Data are loaded into postgresql database:\n",
    "\n",
    "```\n",
    "shp2pgsql -s 26918 nyc_census_blocks.shp public.nyc_census_blocks | psql -h localhost -d postgres -U postgres\n",
    "shp2pgsql -s 26918 nyc_streets.shp public.nyc_streets | psql -h localhost -d postgres -U postgres\n",
    "shp2pgsql -s 26918 nyc_neighborhoods.shp public.nyc_neighborhoods | psql -h localhost -d postgres -U postgres\n",
    "shp2pgsql -s 26918 nyc_subway_stations.shp public.nyc_subway_stations | psql -h localhost -d postgres -U postgres\n",
    "shp2pgsql -s 26918 nyc_homicides.shp public.nyc_homicides | psql -h localhost -d postgres -U postgres\n",
    "```"
   ]
  },
  {
   "cell_type": "code",
   "execution_count": 3,
   "metadata": {
    "collapsed": true
   },
   "outputs": [],
   "source": [
    "%matplotlib inline\n",
    "\n",
    "import matplotlib.pyplot as plt\n",
    "import geopandas\n",
    "\n",
    "from shapely.geometry import Point"
   ]
  },
  {
   "cell_type": "code",
   "execution_count": 4,
   "metadata": {
    "collapsed": true
   },
   "outputs": [],
   "source": [
    "nyc_census_blocks = geopandas.read_file(\"../../postgis-workshop/data/nyc_census_blocks.shp\")\n",
    "nyc_streets = geopandas.read_file(\"../../postgis-workshop/data/nyc_streets.shp\")\n",
    "nyc_neighborhoods = geopandas.read_file(\"../../postgis-workshop/data/nyc_neighborhoods.shp\")\n",
    "nyc_subway_stations = geopandas.read_file(\"../../postgis-workshop/data/nyc_subway_stations.shp\")\n",
    "nyc_homicides = geopandas.read_file(\"../../postgis-workshop/data/nyc_homicides.shp\")"
   ]
  },
  {
   "cell_type": "markdown",
   "metadata": {},
   "source": [
    "## Distance example"
   ]
  },
  {
   "cell_type": "markdown",
   "metadata": {},
   "source": [
    "Example from http://workshops.boundlessgeo.com/postgis-intro/spatial_relationships_exercises.html\n",
    "\n",
    "```sql\n",
    "-- Approximately how many people live on (within 50 meters of) Atlantic Commons?\n",
    "\n",
    "SELECT Sum(popn_total)\n",
    "FROM nyc_census_blocks\n",
    "WHERE ST_DWithin(\n",
    "   geom,\n",
    "   ST_GeomFromText('POINT(586782 4504202)', 26918),\n",
    "   50\n",
    ");\n",
    "```"
   ]
  },
  {
   "cell_type": "markdown",
   "metadata": {},
   "source": [
    "The problem with this example is that we don't have a 'dwithin' method in shapely/geopandas. Therefore I slightly adjusted this example (although this is slower in postgis, but more comparable to the geopandas version):\n",
    "\n",
    "```sql\n",
    "SELECT Sum(popn_total)\n",
    "FROM nyc_census_blocks\n",
    "WHERE ST_Distance(\n",
    "   geom,\n",
    "   ST_GeomFromText('POINT(586782 4504202)', 26918)) < 50\n",
    ";\n",
    "```"
   ]
  },
  {
   "cell_type": "markdown",
   "metadata": {},
   "source": [
    "Some timings of the above query with postgis:"
   ]
  },
  {
   "cell_type": "code",
   "execution_count": 12,
   "metadata": {
    "collapsed": true
   },
   "outputs": [],
   "source": [
    "t_dist_postgis = np.mean([68, 78, 109, 76, 67, 54, 83])"
   ]
  },
  {
   "cell_type": "markdown",
   "metadata": {},
   "source": [
    "Now the same with geopandas:"
   ]
  },
  {
   "cell_type": "code",
   "execution_count": 7,
   "metadata": {},
   "outputs": [
    {
     "data": {
      "text/plain": [
       "896"
      ]
     },
     "execution_count": 7,
     "metadata": {},
     "output_type": "execute_result"
    }
   ],
   "source": [
    "subset = nyc_census_blocks[nyc_census_blocks.distance(Point(586782, 4504202)) < 50]\n",
    "subset['POPN_TOTAL'].sum()"
   ]
  },
  {
   "cell_type": "markdown",
   "metadata": {},
   "source": [
    "This gives the same result as the postgis query.\n",
    "\n",
    "Timings:"
   ]
  },
  {
   "cell_type": "code",
   "execution_count": 10,
   "metadata": {},
   "outputs": [
    {
     "name": "stdout",
     "output_type": "stream",
     "text": [
      "419 ms ± 10.1 ms per loop (mean ± std. dev. of 7 runs, 1 loop each)\n"
     ]
    }
   ],
   "source": [
    "%%timeit\n",
    "subset = nyc_census_blocks[nyc_census_blocks.distance(Point(586782, 4504202)) < 50]\n",
    "subset['POPN_TOTAL'].sum()"
   ]
  },
  {
   "cell_type": "code",
   "execution_count": 13,
   "metadata": {
    "collapsed": true
   },
   "outputs": [],
   "source": [
    "t_dist_cython = np.mean([108, 113, 109])"
   ]
  },
  {
   "cell_type": "code",
   "execution_count": 11,
   "metadata": {
    "collapsed": true
   },
   "outputs": [],
   "source": [
    "t_dist_geopandas = np.mean([415, 425, 419])"
   ]
  },
  {
   "cell_type": "code",
   "execution_count": 62,
   "metadata": {},
   "outputs": [
    {
     "data": {
      "image/png": "[encoded data removed]",
      "text/plain": [
       "<matplotlib.figure.Figure at 0x7f1d077f9f60>"
      ]
     },
     "metadata": {},
     "output_type": "display_data"
    }
   ],
   "source": [
    "fig, ax = plt.subplots()\n",
    "ax.bar([0,1,2], [t_dist_geopandas, t_dist_postgis, t_dist_cython], color=['C0', 'C1', 'C2'])\n",
    "ax.set_xticks([0, 1, 2])\n",
    "ax.set_xticklabels(['geopandas', 'postgis', 'geopandas\\n+cython'], fontsize=18)\n",
    "ax.set_title('distance', fontsize=25)\n",
    "ax.set_ylabel('Time (ms)');\n",
    "fig.savefig(\"img/timings_distance2_all.png\", bbox_inches='tight')"
   ]
  },
  {
   "cell_type": "code",
   "execution_count": 63,
   "metadata": {},
   "outputs": [
    {
     "data": {
      "image/png": "[encoded data removed]",
      "text/plain": [
       "<matplotlib.figure.Figure at 0x7f1d1006b668>"
      ]
     },
     "metadata": {},
     "output_type": "display_data"
    }
   ],
   "source": [
    "fig, ax = plt.subplots()\n",
    "ax.bar([0,1,2], [t_dist_geopandas, t_dist_postgis, 0], color=['C0', 'C1', 'C2'])\n",
    "ax.set_xticks([0, 1, 2])\n",
    "ax.set_xticklabels(['geopandas', 'postgis', ' \\n '], fontsize=18)\n",
    "ax.set_title('distance', fontsize=25)\n",
    "ax.set_ylabel('Time (ms)');\n",
    "fig.savefig(\"img/timings_distance2.png\", bbox_inches='tight')"
   ]
  },
  {
   "cell_type": "markdown",
   "metadata": {},
   "source": [
    "## Spatial joins"
   ]
  },
  {
   "cell_type": "markdown",
   "metadata": {},
   "source": [
    "Example from http://workshops.boundlessgeo.com/postgis-intro/joins.html"
   ]
  },
  {
   "cell_type": "markdown",
   "metadata": {},
   "source": [
    "```sql\n",
    "CREATE INDEX nyc_census_blocks_geom_gist ON nyc_census_blocks USING GIST (geom);\n",
    "CREATE INDEX nyc_neighborhoods_geom_gist ON nyc_neighborhoods USING GIST (geom);\n",
    "```\n",
    "\n",
    "```sql\n",
    "-- What is the population and racial make-up of the neighborhoods \n",
    "-- of Manhattan?\n",
    "SELECT\n",
    "  neighborhoods.name AS neighborhood_name,\n",
    "  Sum(census.popn_total) AS population,\n",
    "  100.0 * Sum(census.popn_white) / NULLIF(Sum(census.popn_total),0) AS white_pct,\n",
    "  100.0 * Sum(census.popn_black) / NULLIF(Sum(census.popn_total),0) AS black_pct\n",
    "FROM nyc_neighborhoods AS neighborhoods\n",
    "JOIN nyc_census_blocks AS census\n",
    "ON ST_Intersects(neighborhoods.geom, census.geom)\n",
    "GROUP BY neighborhoods.name\n",
    "ORDER BY white_pct DESC;\n",
    "```\n"
   ]
  },
  {
   "cell_type": "markdown",
   "metadata": {},
   "source": [
    "Timing: 553 ms"
   ]
  },
  {
   "cell_type": "code",
   "execution_count": 32,
   "metadata": {
    "collapsed": true
   },
   "outputs": [],
   "source": [
    "t_sjoin_postgis = 553"
   ]
  },
  {
   "cell_type": "markdown",
   "metadata": {},
   "source": [
    "Now the same in geopandas:"
   ]
  },
  {
   "cell_type": "code",
   "execution_count": 27,
   "metadata": {},
   "outputs": [
    {
     "data": {
      "text/html": [
       "<div>\n",
       "<style>\n",
       "    .dataframe thead tr:only-child th {\n",
       "        text-align: right;\n",
       "    }\n",
       "\n",
       "    .dataframe thead th {\n",
       "        text-align: left;\n",
       "    }\n",
       "\n",
       "    .dataframe tbody tr th {\n",
       "        vertical-align: top;\n",
       "    }\n",
       "</style>\n",
       "<table border=\"1\" class=\"dataframe\">\n",
       "  <thead>\n",
       "    <tr style=\"text-align: right;\">\n",
       "      <th></th>\n",
       "      <th>POPN_TOTAL</th>\n",
       "      <th>POPN_WHITE</th>\n",
       "      <th>POPN_BLACK</th>\n",
       "    </tr>\n",
       "    <tr>\n",
       "      <th>NAME</th>\n",
       "      <th></th>\n",
       "      <th></th>\n",
       "      <th></th>\n",
       "    </tr>\n",
       "  </thead>\n",
       "  <tbody>\n",
       "    <tr>\n",
       "      <th>Huguenot</th>\n",
       "      <td>11238</td>\n",
       "      <td>93.691048</td>\n",
       "      <td>0.400427</td>\n",
       "    </tr>\n",
       "    <tr>\n",
       "      <th>Prince's Bay</th>\n",
       "      <td>9974</td>\n",
       "      <td>93.613395</td>\n",
       "      <td>0.862242</td>\n",
       "    </tr>\n",
       "    <tr>\n",
       "      <th>Tottensville</th>\n",
       "      <td>15172</td>\n",
       "      <td>93.323227</td>\n",
       "      <td>0.599789</td>\n",
       "    </tr>\n",
       "    <tr>\n",
       "      <th>Great Kills</th>\n",
       "      <td>19131</td>\n",
       "      <td>93.084523</td>\n",
       "      <td>0.622027</td>\n",
       "    </tr>\n",
       "    <tr>\n",
       "      <th>Ettingville</th>\n",
       "      <td>35553</td>\n",
       "      <td>92.875425</td>\n",
       "      <td>0.537226</td>\n",
       "    </tr>\n",
       "    <tr>\n",
       "      <th>Annandale</th>\n",
       "      <td>13695</td>\n",
       "      <td>92.771084</td>\n",
       "      <td>0.306681</td>\n",
       "    </tr>\n",
       "    <tr>\n",
       "      <th>Woodrow</th>\n",
       "      <td>10408</td>\n",
       "      <td>92.409685</td>\n",
       "      <td>0.941583</td>\n",
       "    </tr>\n",
       "    <tr>\n",
       "      <th>Carnegie Hill</th>\n",
       "      <td>18763</td>\n",
       "      <td>90.081543</td>\n",
       "      <td>1.412354</td>\n",
       "    </tr>\n",
       "    <tr>\n",
       "      <th>Oakwood</th>\n",
       "      <td>30644</td>\n",
       "      <td>89.227908</td>\n",
       "      <td>1.585955</td>\n",
       "    </tr>\n",
       "    <tr>\n",
       "      <th>West Village</th>\n",
       "      <td>26718</td>\n",
       "      <td>87.596377</td>\n",
       "      <td>2.174564</td>\n",
       "    </tr>\n",
       "    <tr>\n",
       "      <th>North Sutton Area</th>\n",
       "      <td>22460</td>\n",
       "      <td>87.564559</td>\n",
       "      <td>1.553874</td>\n",
       "    </tr>\n",
       "    <tr>\n",
       "      <th>Ardon Heights</th>\n",
       "      <td>23395</td>\n",
       "      <td>87.454584</td>\n",
       "      <td>1.825176</td>\n",
       "    </tr>\n",
       "    <tr>\n",
       "      <th>Rossville</th>\n",
       "      <td>12250</td>\n",
       "      <td>87.093878</td>\n",
       "      <td>5.012245</td>\n",
       "    </tr>\n",
       "    <tr>\n",
       "      <th>City Island</th>\n",
       "      <td>4362</td>\n",
       "      <td>85.442458</td>\n",
       "      <td>3.392939</td>\n",
       "    </tr>\n",
       "    <tr>\n",
       "      <th>Upper East Side</th>\n",
       "      <td>203741</td>\n",
       "      <td>85.022160</td>\n",
       "      <td>2.722083</td>\n",
       "    </tr>\n",
       "    <tr>\n",
       "      <th>Soho</th>\n",
       "      <td>15436</td>\n",
       "      <td>84.646281</td>\n",
       "      <td>2.235035</td>\n",
       "    </tr>\n",
       "    <tr>\n",
       "      <th>Westerleigh-Castleton</th>\n",
       "      <td>31829</td>\n",
       "      <td>83.471048</td>\n",
       "      <td>3.075811</td>\n",
       "    </tr>\n",
       "    <tr>\n",
       "      <th>Midland Beach</th>\n",
       "      <td>23921</td>\n",
       "      <td>82.517453</td>\n",
       "      <td>3.720580</td>\n",
       "    </tr>\n",
       "    <tr>\n",
       "      <th>Rosebank</th>\n",
       "      <td>486</td>\n",
       "      <td>82.304527</td>\n",
       "      <td>3.497942</td>\n",
       "    </tr>\n",
       "    <tr>\n",
       "      <th>Greenwich Village</th>\n",
       "      <td>57224</td>\n",
       "      <td>81.976094</td>\n",
       "      <td>2.437788</td>\n",
       "    </tr>\n",
       "    <tr>\n",
       "      <th>Bloomfield-Chelsea-Travis</th>\n",
       "      <td>10933</td>\n",
       "      <td>81.459801</td>\n",
       "      <td>2.743986</td>\n",
       "    </tr>\n",
       "    <tr>\n",
       "      <th>Cobble Hill</th>\n",
       "      <td>13108</td>\n",
       "      <td>80.836131</td>\n",
       "      <td>5.363137</td>\n",
       "    </tr>\n",
       "    <tr>\n",
       "      <th>Middle Village</th>\n",
       "      <td>42045</td>\n",
       "      <td>80.649304</td>\n",
       "      <td>1.248662</td>\n",
       "    </tr>\n",
       "    <tr>\n",
       "      <th>South Beach</th>\n",
       "      <td>29024</td>\n",
       "      <td>79.975193</td>\n",
       "      <td>3.758958</td>\n",
       "    </tr>\n",
       "    <tr>\n",
       "      <th>Central Park</th>\n",
       "      <td>46600</td>\n",
       "      <td>79.493562</td>\n",
       "      <td>7.967811</td>\n",
       "    </tr>\n",
       "    <tr>\n",
       "      <th>Tribeca</th>\n",
       "      <td>20908</td>\n",
       "      <td>79.118041</td>\n",
       "      <td>3.548881</td>\n",
       "    </tr>\n",
       "    <tr>\n",
       "      <th>Richmondtown</th>\n",
       "      <td>40441</td>\n",
       "      <td>77.735466</td>\n",
       "      <td>2.729903</td>\n",
       "    </tr>\n",
       "    <tr>\n",
       "      <th>Carroll Gardens</th>\n",
       "      <td>30907</td>\n",
       "      <td>77.571424</td>\n",
       "      <td>5.144466</td>\n",
       "    </tr>\n",
       "    <tr>\n",
       "      <th>Park Slope</th>\n",
       "      <td>77187</td>\n",
       "      <td>77.244873</td>\n",
       "      <td>7.361343</td>\n",
       "    </tr>\n",
       "    <tr>\n",
       "      <th>Spuyten Duyvil</th>\n",
       "      <td>15873</td>\n",
       "      <td>76.746677</td>\n",
       "      <td>8.920809</td>\n",
       "    </tr>\n",
       "    <tr>\n",
       "      <th>...</th>\n",
       "      <td>...</td>\n",
       "      <td>...</td>\n",
       "      <td>...</td>\n",
       "    </tr>\n",
       "    <tr>\n",
       "      <th>Mott Haven</th>\n",
       "      <td>74600</td>\n",
       "      <td>23.915550</td>\n",
       "      <td>32.411528</td>\n",
       "    </tr>\n",
       "    <tr>\n",
       "      <th>Hamilton Heights</th>\n",
       "      <td>67432</td>\n",
       "      <td>23.889251</td>\n",
       "      <td>35.772334</td>\n",
       "    </tr>\n",
       "    <tr>\n",
       "      <th>Canarsie</th>\n",
       "      <td>148794</td>\n",
       "      <td>23.861849</td>\n",
       "      <td>67.292364</td>\n",
       "    </tr>\n",
       "    <tr>\n",
       "      <th>University Heights</th>\n",
       "      <td>64681</td>\n",
       "      <td>23.255670</td>\n",
       "      <td>25.412409</td>\n",
       "    </tr>\n",
       "    <tr>\n",
       "      <th>Soundview</th>\n",
       "      <td>94689</td>\n",
       "      <td>23.136795</td>\n",
       "      <td>38.516618</td>\n",
       "    </tr>\n",
       "    <tr>\n",
       "      <th>College Point</th>\n",
       "      <td>1022</td>\n",
       "      <td>22.602740</td>\n",
       "      <td>2.250489</td>\n",
       "    </tr>\n",
       "    <tr>\n",
       "      <th>Country Club</th>\n",
       "      <td>55437</td>\n",
       "      <td>22.551725</td>\n",
       "      <td>62.597182</td>\n",
       "    </tr>\n",
       "    <tr>\n",
       "      <th>Tremont</th>\n",
       "      <td>122743</td>\n",
       "      <td>22.508005</td>\n",
       "      <td>35.873329</td>\n",
       "    </tr>\n",
       "    <tr>\n",
       "      <th>Howard Beach</th>\n",
       "      <td>5</td>\n",
       "      <td>20.000000</td>\n",
       "      <td>60.000000</td>\n",
       "    </tr>\n",
       "    <tr>\n",
       "      <th>South Bronx</th>\n",
       "      <td>220104</td>\n",
       "      <td>19.037818</td>\n",
       "      <td>42.254116</td>\n",
       "    </tr>\n",
       "    <tr>\n",
       "      <th>High Bridge</th>\n",
       "      <td>92787</td>\n",
       "      <td>18.997273</td>\n",
       "      <td>36.180715</td>\n",
       "    </tr>\n",
       "    <tr>\n",
       "      <th>Flushing</th>\n",
       "      <td>94898</td>\n",
       "      <td>18.654766</td>\n",
       "      <td>3.958988</td>\n",
       "    </tr>\n",
       "    <tr>\n",
       "      <th>Morris Heights</th>\n",
       "      <td>73413</td>\n",
       "      <td>17.879667</td>\n",
       "      <td>39.155190</td>\n",
       "    </tr>\n",
       "    <tr>\n",
       "      <th>East Brooklyn</th>\n",
       "      <td>158947</td>\n",
       "      <td>15.394440</td>\n",
       "      <td>55.032810</td>\n",
       "    </tr>\n",
       "    <tr>\n",
       "      <th>Chinatown</th>\n",
       "      <td>16209</td>\n",
       "      <td>15.164415</td>\n",
       "      <td>3.757172</td>\n",
       "    </tr>\n",
       "    <tr>\n",
       "      <th>Harlem</th>\n",
       "      <td>134955</td>\n",
       "      <td>15.094661</td>\n",
       "      <td>67.061613</td>\n",
       "    </tr>\n",
       "    <tr>\n",
       "      <th>Jamaica</th>\n",
       "      <td>154273</td>\n",
       "      <td>11.401217</td>\n",
       "      <td>51.755006</td>\n",
       "    </tr>\n",
       "    <tr>\n",
       "      <th>Bedford-Stuyvesant</th>\n",
       "      <td>242871</td>\n",
       "      <td>11.256593</td>\n",
       "      <td>75.374170</td>\n",
       "    </tr>\n",
       "    <tr>\n",
       "      <th>Queens Village</th>\n",
       "      <td>61426</td>\n",
       "      <td>9.971348</td>\n",
       "      <td>63.113340</td>\n",
       "    </tr>\n",
       "    <tr>\n",
       "      <th>Wakefield-Williamsbridge</th>\n",
       "      <td>111021</td>\n",
       "      <td>9.563056</td>\n",
       "      <td>73.615802</td>\n",
       "    </tr>\n",
       "    <tr>\n",
       "      <th>Brownsville</th>\n",
       "      <td>123297</td>\n",
       "      <td>7.970186</td>\n",
       "      <td>81.080643</td>\n",
       "    </tr>\n",
       "    <tr>\n",
       "      <th>Rosedale</th>\n",
       "      <td>111</td>\n",
       "      <td>5.405405</td>\n",
       "      <td>81.981982</td>\n",
       "    </tr>\n",
       "    <tr>\n",
       "      <th>Saintalbans</th>\n",
       "      <td>76147</td>\n",
       "      <td>3.612749</td>\n",
       "      <td>81.368931</td>\n",
       "    </tr>\n",
       "    <tr>\n",
       "      <th>Springfield Gardens</th>\n",
       "      <td>41157</td>\n",
       "      <td>2.563355</td>\n",
       "      <td>89.984693</td>\n",
       "    </tr>\n",
       "    <tr>\n",
       "      <th>Laurelton</th>\n",
       "      <td>42632</td>\n",
       "      <td>2.350347</td>\n",
       "      <td>92.599456</td>\n",
       "    </tr>\n",
       "    <tr>\n",
       "      <th>Bayside</th>\n",
       "      <td>0</td>\n",
       "      <td>NaN</td>\n",
       "      <td>NaN</td>\n",
       "    </tr>\n",
       "    <tr>\n",
       "      <th>Coney Island</th>\n",
       "      <td>0</td>\n",
       "      <td>NaN</td>\n",
       "      <td>NaN</td>\n",
       "    </tr>\n",
       "    <tr>\n",
       "      <th>Flatbush</th>\n",
       "      <td>0</td>\n",
       "      <td>NaN</td>\n",
       "      <td>NaN</td>\n",
       "    </tr>\n",
       "    <tr>\n",
       "      <th>Red Hook</th>\n",
       "      <td>0</td>\n",
       "      <td>NaN</td>\n",
       "      <td>NaN</td>\n",
       "    </tr>\n",
       "    <tr>\n",
       "      <th>Steinway</th>\n",
       "      <td>0</td>\n",
       "      <td>NaN</td>\n",
       "      <td>NaN</td>\n",
       "    </tr>\n",
       "  </tbody>\n",
       "</table>\n",
       "<p>129 rows × 3 columns</p>\n",
       "</div>"
      ],
      "text/plain": [
       "                           POPN_TOTAL  POPN_WHITE  POPN_BLACK\n",
       "NAME                                                         \n",
       "Huguenot                        11238   93.691048    0.400427\n",
       "Prince's Bay                     9974   93.613395    0.862242\n",
       "Tottensville                    15172   93.323227    0.599789\n",
       "Great Kills                     19131   93.084523    0.622027\n",
       "Ettingville                     35553   92.875425    0.537226\n",
       "Annandale                       13695   92.771084    0.306681\n",
       "Woodrow                         10408   92.409685    0.941583\n",
       "Carnegie Hill                   18763   90.081543    1.412354\n",
       "Oakwood                         30644   89.227908    1.585955\n",
       "West Village                    26718   87.596377    2.174564\n",
       "North Sutton Area               22460   87.564559    1.553874\n",
       "Ardon Heights                   23395   87.454584    1.825176\n",
       "Rossville                       12250   87.093878    5.012245\n",
       "City Island                      4362   85.442458    3.392939\n",
       "Upper East Side                203741   85.022160    2.722083\n",
       "Soho                            15436   84.646281    2.235035\n",
       "Westerleigh-Castleton           31829   83.471048    3.075811\n",
       "Midland Beach                   23921   82.517453    3.720580\n",
       "Rosebank                          486   82.304527    3.497942\n",
       "Greenwich Village               57224   81.976094    2.437788\n",
       "Bloomfield-Chelsea-Travis       10933   81.459801    2.743986\n",
       "Cobble Hill                     13108   80.836131    5.363137\n",
       "Middle Village                  42045   80.649304    1.248662\n",
       "South Beach                     29024   79.975193    3.758958\n",
       "Central Park                    46600   79.493562    7.967811\n",
       "Tribeca                         20908   79.118041    3.548881\n",
       "Richmondtown                    40441   77.735466    2.729903\n",
       "Carroll Gardens                 30907   77.571424    5.144466\n",
       "Park Slope                      77187   77.244873    7.361343\n",
       "Spuyten Duyvil                  15873   76.746677    8.920809\n",
       "...                               ...         ...         ...\n",
       "Mott Haven                      74600   23.915550   32.411528\n",
       "Hamilton Heights                67432   23.889251   35.772334\n",
       "Canarsie                       148794   23.861849   67.292364\n",
       "University Heights              64681   23.255670   25.412409\n",
       "Soundview                       94689   23.136795   38.516618\n",
       "College Point                    1022   22.602740    2.250489\n",
       "Country Club                    55437   22.551725   62.597182\n",
       "Tremont                        122743   22.508005   35.873329\n",
       "Howard Beach                        5   20.000000   60.000000\n",
       "South Bronx                    220104   19.037818   42.254116\n",
       "High Bridge                     92787   18.997273   36.180715\n",
       "Flushing                        94898   18.654766    3.958988\n",
       "Morris Heights                  73413   17.879667   39.155190\n",
       "East Brooklyn                  158947   15.394440   55.032810\n",
       "Chinatown                       16209   15.164415    3.757172\n",
       "Harlem                         134955   15.094661   67.061613\n",
       "Jamaica                        154273   11.401217   51.755006\n",
       "Bedford-Stuyvesant             242871   11.256593   75.374170\n",
       "Queens Village                  61426    9.971348   63.113340\n",
       "Wakefield-Williamsbridge       111021    9.563056   73.615802\n",
       "Brownsville                    123297    7.970186   81.080643\n",
       "Rosedale                          111    5.405405   81.981982\n",
       "Saintalbans                     76147    3.612749   81.368931\n",
       "Springfield Gardens             41157    2.563355   89.984693\n",
       "Laurelton                       42632    2.350347   92.599456\n",
       "Bayside                             0         NaN         NaN\n",
       "Coney Island                        0         NaN         NaN\n",
       "Flatbush                            0         NaN         NaN\n",
       "Red Hook                            0         NaN         NaN\n",
       "Steinway                            0         NaN         NaN\n",
       "\n",
       "[129 rows x 3 columns]"
      ]
     },
     "execution_count": 27,
     "metadata": {},
     "output_type": "execute_result"
    }
   ],
   "source": [
    "res = geopandas.sjoin(nyc_neighborhoods, nyc_census_blocks, op='intersects')\n",
    "res= res.groupby('NAME')[['POPN_TOTAL', 'POPN_WHITE', 'POPN_BLACK']].sum()\n",
    "res['POPN_BLACK'] = res['POPN_BLACK'] / res['POPN_TOTAL'] * 100\n",
    "res['POPN_WHITE'] = res['POPN_WHITE'] / res['POPN_TOTAL'] * 100\n",
    "res.sort_values('POPN_WHITE', ascending=False)"
   ]
  },
  {
   "cell_type": "code",
   "execution_count": 28,
   "metadata": {},
   "outputs": [
    {
     "name": "stdout",
     "output_type": "stream",
     "text": [
      "3.66 s ± 66 ms per loop (mean ± std. dev. of 7 runs, 1 loop each)\n"
     ]
    }
   ],
   "source": [
    "%%timeit\n",
    "res = geopandas.sjoin(nyc_neighborhoods, nyc_census_blocks, op='intersects')\n",
    "res= res.groupby('NAME')[['POPN_TOTAL', 'POPN_WHITE', 'POPN_BLACK']].sum()\n",
    "res['POPN_BLACK'] = res['POPN_BLACK'] / res['POPN_TOTAL'] * 100\n",
    "res['POPN_WHITE'] = res['POPN_WHITE'] / res['POPN_TOTAL'] * 100\n",
    "res.sort_values('POPN_WHITE', ascending=False)"
   ]
  },
  {
   "cell_type": "code",
   "execution_count": 34,
   "metadata": {
    "collapsed": true
   },
   "outputs": [],
   "source": [
    "t_sjoin_cython = 538"
   ]
  },
  {
   "cell_type": "code",
   "execution_count": 35,
   "metadata": {
    "collapsed": true
   },
   "outputs": [],
   "source": [
    "t_sjoin_geopandas = 3660"
   ]
  },
  {
   "cell_type": "code",
   "execution_count": 59,
   "metadata": {},
   "outputs": [
    {
     "data": {
      "image/png": "[encoded data removed]",
      "text/plain": [
       "<matplotlib.figure.Figure at 0x7f1d07b559b0>"
      ]
     },
     "metadata": {},
     "output_type": "display_data"
    }
   ],
   "source": [
    "fig, ax = plt.subplots()\n",
    "ax.bar([0,1,2], [t_sjoin_geopandas, t_sjoin_postgis, t_sjoin_cython], color=['C0', 'C1', 'C2'])\n",
    "ax.set_xticks([0, 1, 2])\n",
    "ax.set_xticklabels(['geopandas', 'postgis', 'geopandas\\n+cython'], fontsize=18)\n",
    "ax.set_title('spatial join', fontsize=25)\n",
    "ax.set_ylabel('Time (ms)');\n",
    "fig.savefig(\"img/timings_sjoin_all.png\", bbox_inches='tight')"
   ]
  },
  {
   "cell_type": "code",
   "execution_count": 61,
   "metadata": {},
   "outputs": [
    {
     "data": {
      "image/png": "[encoded data removed]",
      "text/plain": [
       "<matplotlib.figure.Figure at 0x7f1d076bef60>"
      ]
     },
     "metadata": {},
     "output_type": "display_data"
    }
   ],
   "source": [
    "fig, ax = plt.subplots()\n",
    "ax.bar([0,1,2], [t_sjoin_geopandas, t_sjoin_postgis, 0], color=['C0', 'C1', 'C2'])\n",
    "ax.set_xticks([0, 1, 2])\n",
    "ax.set_xticklabels(['geopandas', 'postgis', ' \\n '], fontsize=18)\n",
    "ax.set_title('spatial join', fontsize=25)\n",
    "ax.set_ylabel('Time (ms)');\n",
    "fig.savefig(\"img/timings_sjoin.png\", bbox_inches='tight')"
   ]
  },
  {
   "cell_type": "code",
   "execution_count": null,
   "metadata": {
    "collapsed": true
   },
   "outputs": [],
   "source": []
  }
 ],
 "metadata": {
  "gist_id": "d625e2c9537a6581fc16dadfd24115e1",
  "kernelspec": {
   "display_name": "Python 3 (dev)",
   "language": "python",
   "name": "dev"
  },
  "language_info": {
   "codemirror_mode": {
    "name": "ipython",
    "version": 3
   },
   "file_extension": ".py",
   "mimetype": "text/x-python",
   "name": "python",
   "nbconvert_exporter": "python",
   "pygments_lexer": "ipython3",
   "version": "3.5.2"
  },
  "nav_menu": {},
  "toc": {
   "navigate_menu": true,
   "number_sections": true,
   "sideBar": true,
   "threshold": 6,
   "toc_cell": false,
   "toc_section_display": "block",
   "toc_window_display": false
  }
 },
 "nbformat": 4,
 "nbformat_minor": 2
}
